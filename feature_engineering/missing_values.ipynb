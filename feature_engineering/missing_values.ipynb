{
 "cells": [
  {
   "cell_type": "markdown",
   "metadata": {},
   "source": [
    "# Import Necessary Libraries"
   ]
  },
  {
   "cell_type": "code",
   "execution_count": 3,
   "metadata": {},
   "outputs": [],
   "source": [
    "import pandas as pd"
   ]
  },
  {
   "cell_type": "markdown",
   "metadata": {},
   "source": [
    "# Load data"
   ]
  },
  {
   "cell_type": "code",
   "execution_count": null,
   "metadata": {},
   "outputs": [],
   "source": [
    "df_train = pd.read_csv(\"C:/Users/esrio_0v2bwuf/Desktop/Master_AI/Data_Mining_Techniques/Assignments/Assignment2/Data-Mining-2/Data/training_set_VU_DM.csv\")"
   ]
  },
  {
   "cell_type": "code",
   "execution_count": null,
   "metadata": {},
   "outputs": [],
   "source": [
    "df_test = pd.read_csv(\"C:/Users/esrio_0v2bwuf/Desktop/Master_AI/Data_Mining_Techniques/Assignments/Assignment2/Data-Mining-2/Data/test_set_VU_DM.csv\")"
   ]
  },
  {
   "cell_type": "code",
   "execution_count": null,
   "metadata": {},
   "outputs": [],
   "source": [
    "df_test_train = pd.concat([df_train, df_test], axis=0) #axis=0 means row wise concatenation"
   ]
  },
  {
   "cell_type": "markdown",
   "metadata": {},
   "source": [
    "# Feature Engineering\n",
    "- take averages of training and test set at once or just training\n",
    "- missing values\n",
    "- which features against eachother\n",
    "- differences averages\n",
    "- what has been done already"
   ]
  },
  {
   "cell_type": "markdown",
   "metadata": {},
   "source": [
    "# Missing Values"
   ]
  },
  {
   "cell_type": "markdown",
   "metadata": {},
   "source": [
    "### dropped columns: \n",
    " - gross_booking_usd\n",
    " - position"
   ]
  },
  {
   "cell_type": "code",
   "execution_count": null,
   "metadata": {},
   "outputs": [],
   "source": [
    "#drop the columns position and gross_booking_usd\n",
    "df_test_train = df_test_train.drop(['gross_booking_usd', ['position']], axis=1)"
   ]
  },
  {
   "cell_type": "markdown",
   "metadata": {},
   "source": [
    "### set to 0 if not available:\n",
    "- comp_rate_percent_diff\n",
    "- comp_inv\n",
    "- click_bool\n",
    "- booking_bool\n",
    "- prop_review_score\n"
   ]
  },
  {
   "cell_type": "code",
   "execution_count": null,
   "metadata": {},
   "outputs": [],
   "source": []
  },
  {
   "cell_type": "markdown",
   "metadata": {},
   "source": [
    "### set to -1 if null\n",
    "- comp_inv"
   ]
  },
  {
   "cell_type": "code",
   "execution_count": null,
   "metadata": {},
   "outputs": [],
   "source": []
  },
  {
   "cell_type": "markdown",
   "metadata": {},
   "source": [
    "### new features\n",
    "- visitor_hist_starrating: 0 if not available, difference between hist star rating with prop star rating (current) if available, don't take absolute difference\n",
    "- visitor_hist_adr_usd: same as above\n",
    "\n",
    "- srch_query_affinity_score: remove log scale, per hotel id: #clicks/ #aantaal keer gevonden in search\n",
    "probleem: niet elke kamer is hetzelfde\n",
    "\n",
    "- orig_destination_distance: verwijderen of impute via prop country id gemiddelde afstand, 8 landen met complete missing values: gemiddelde afstand tussen landen nemen in afstand, anders afstand gemiddelde van hotels zonder missing values naar boeker\n",
    "\n",
    "- prop_location_score2: worst case nemen"
   ]
  }
 ],
 "metadata": {
  "kernelspec": {
   "display_name": "Python 3",
   "language": "python",
   "name": "python3"
  },
  "language_info": {
   "codemirror_mode": {
    "name": "ipython",
    "version": 3
   },
   "file_extension": ".py",
   "mimetype": "text/x-python",
   "name": "python",
   "nbconvert_exporter": "python",
   "pygments_lexer": "ipython3",
   "version": "3.12.0"
  }
 },
 "nbformat": 4,
 "nbformat_minor": 2
}
